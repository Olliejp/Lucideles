{
 "cells": [
  {
   "cell_type": "code",
   "execution_count": 167,
   "metadata": {},
   "outputs": [],
   "source": [
    "import pandas as pd\n",
    "import numpy as np\n",
    "\n",
    "import matplotlib.pyplot as plt\n",
    "\n",
    "import xgboost as xgb\n",
    "from xgboost import XGBRegressor\n",
    "\n",
    "from sklearn.model_selection import RandomizedSearchCV\n",
    "from sklearn.model_selection import GridSearchCV\n",
    "\n",
    "plt.rcParams['axes.spines.right'] = False\n",
    "plt.rcParams['axes.spines.top'] = False\n",
    "plt.rcParams['figure.figsize'] = 10, 6"
   ]
  },
  {
   "cell_type": "markdown",
   "metadata": {},
   "source": [
    "### Performance analysis for sin/cos transformed features vs no-transform data"
   ]
  },
  {
   "cell_type": "markdown",
   "metadata": {},
   "source": [
    "We will use a tree based model wiht default params to compare the performance between the two datasets. Using trees since we dont need to care about feature normalisation."
   ]
  },
  {
   "cell_type": "code",
   "execution_count": 171,
   "metadata": {},
   "outputs": [],
   "source": [
    "data_path = \"/Users/oliverpaul/Data_Science/idiap/lucideles/data\""
   ]
  },
  {
   "cell_type": "code",
   "execution_count": 172,
   "metadata": {},
   "outputs": [],
   "source": [
    "# loading data\n",
    "df = pd.read_csv(data_path + \"/data_transform\", index_col=0)"
   ]
  },
  {
   "cell_type": "code",
   "execution_count": 173,
   "metadata": {},
   "outputs": [
    {
     "name": "stdout",
     "output_type": "stream",
     "text": [
      "int64 blind angle\n",
      "int64 fully open\n",
      "int64 ibn\n",
      "int64 idh\n",
      "int64 month\n",
      "int64 day\n",
      "int64 hour\n",
      "float64 altitude\n",
      "float64 azimuth\n",
      "float64 dgp\n",
      "float64 ill\n",
      "float64 azimuth_sin\n",
      "float64 azimuth_cos\n"
     ]
    }
   ],
   "source": [
    "for col in df.columns:\n",
    "    print(df[col].dtype, col)"
   ]
  },
  {
   "cell_type": "markdown",
   "metadata": {},
   "source": [
    "Making XGboost datasets for training a prediction. Wont bother making a test set, we just want to do a quick comparison between the two datasets..."
   ]
  },
  {
   "cell_type": "code",
   "execution_count": 189,
   "metadata": {},
   "outputs": [],
   "source": [
    "FEATURE_COLS_NO = ['blind angle', 'fully open', 'ibn', 'idh', 'altitude', 'azimuth']\n",
    "FEATURE_COLS_TRANSFORM = ['blind angle', 'fully open', 'ibn', 'idh', 'altitude', 'azimuth_sin', 'azimuth_cos']\n",
    "TARGET_COLS = ['dgp', 'ill']\n",
    "\n",
    "X_no_transform = df[FEATURE_COLS_NO]\n",
    "X_transform = df[FEATURE_COLS_TRANSFORM]\n",
    "Y = df[TARGET_COLS]"
   ]
  },
  {
   "cell_type": "code",
   "execution_count": 175,
   "metadata": {},
   "outputs": [],
   "source": [
    "def mse(y, yhat):\n",
    "    \"\"\"\n",
    "    Computes MSE - our models loss\n",
    "    \"\"\"\n",
    "    return np.sum((y - yhat)**2) / len(y)\n",
    "\n",
    "def test_compare(x, y):\n",
    "    model = xgb.XGBRegressor(n_estimators=100)\n",
    "    model_fit = model.fit(x, y)\n",
    "    y_hat = model_fit.predict(x)\n",
    "    return mse(y_hat, y)"
   ]
  },
  {
   "cell_type": "code",
   "execution_count": 176,
   "metadata": {},
   "outputs": [
    {
     "name": "stdout",
     "output_type": "stream",
     "text": [
      "MSE no transform dpg: 0.000069\n",
      "MSE no transform ill: 298.089083\n",
      "MSE transform dpg: 0.000068\n",
      "MSE transform ill: 292.684864\n"
     ]
    }
   ],
   "source": [
    "print(\"MSE no transform dpg: %f\" % test_compare(X_no_transform, Y['dgp']))\n",
    "print(\"MSE no transform ill: %f\" % test_compare(X_no_transform, Y['ill']))\n",
    "print(\"MSE transform dpg: %f\" % test_compare(X_transform, Y['dgp']))\n",
    "print(\"MSE transform ill: %f\" % test_compare(X_transform, Y['ill']))"
   ]
  },
  {
   "cell_type": "markdown",
   "metadata": {},
   "source": [
    "Changes in accuracy between the two datasets is very small, but the transformed dataset does do slightly better... So will work with this dataset"
   ]
  },
  {
   "cell_type": "markdown",
   "metadata": {},
   "source": [
    "### Pearson's correlation "
   ]
  },
  {
   "cell_type": "markdown",
   "metadata": {},
   "source": [
    "Quick check. Clearly the only features which are relevant for linear correlation are [blind angle, ibn, idh, dgp and ill]."
   ]
  },
  {
   "cell_type": "code",
   "execution_count": 53,
   "metadata": {},
   "outputs": [
    {
     "data": {
      "image/png": "[encoded data removed]",
      "text/plain": [
       "<Figure size 720x432 with 2 Axes>"
      ]
     },
     "metadata": {
      "needs_background": "light"
     },
     "output_type": "display_data"
    }
   ],
   "source": [
    "CORR_FEATURES = ['blind angle', 'ibn', 'idh', 'dgp', 'ill']\n",
    "\n",
    "idx = np.arange(0, len(CORR_FEATURES))\n",
    "fig, ax = plt.subplots(1, 1)\n",
    "im = ax.imshow(df[CORR_FEATURES].corr())\n",
    "ax.set_xticks(idx)\n",
    "ax.set_yticks(idx)\n",
    "ax.set_xticklabels([x for x in df.columns if x in CORR_FEATURES], rotation='vertical')\n",
    "ax.set_yticklabels([x for x in df.columns if x in CORR_FEATURES])\n",
    "plt.colorbar(im)\n",
    "plt.show()"
   ]
  },
  {
   "cell_type": "markdown",
   "metadata": {},
   "source": [
    "Doesnt really show us anything we dont already know. However we can see there is some linear correlation between our two output variables, might be worth using a neural network so that we can learn this relationship."
   ]
  }
 ],
 "metadata": {
  "kernelspec": {
   "display_name": "Python 3",
   "language": "python",
   "name": "python3"
  },
  "language_info": {
   "codemirror_mode": {
    "name": "ipython",
    "version": 3
   },
   "file_extension": ".py",
   "mimetype": "text/x-python",
   "name": "python",
   "nbconvert_exporter": "python",
   "pygments_lexer": "ipython3",
   "version": "3.8.5"
  }
 },
 "nbformat": 4,
 "nbformat_minor": 4
}
