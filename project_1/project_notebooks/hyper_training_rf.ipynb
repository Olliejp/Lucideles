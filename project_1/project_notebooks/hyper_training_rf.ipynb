{
 "cells": [
  {
   "cell_type": "code",
   "execution_count": 23,
   "metadata": {},
   "outputs": [],
   "source": [
    "from sklearn.ensemble import RandomForestRegressor\n",
    "\n",
    "import numpy as np\n",
    "import matplotlib.pyplot as plt\n",
    "\n",
    "from sklearn.model_selection import KFold\n",
    "from sklearn.metrics import mean_absolute_error\n",
    "\n",
    "from pprint import pprint\n",
    "from IPython.display import clear_output"
   ]
  },
  {
   "cell_type": "code",
   "execution_count": 2,
   "metadata": {},
   "outputs": [],
   "source": [
    "data_path = \"/Users/oliverpaul/Data_Science/idiap/lucideles/data\"\n",
    "data = np.load(data_path + '/train.npy')"
   ]
  },
  {
   "cell_type": "code",
   "execution_count": 3,
   "metadata": {},
   "outputs": [],
   "source": [
    "data_x, data_y = data[:,:-2].copy(), data[:,-2:].copy()"
   ]
  },
  {
   "cell_type": "code",
   "execution_count": 4,
   "metadata": {},
   "outputs": [
    {
     "name": "stdout",
     "output_type": "stream",
     "text": [
      "Default parameters:\n",
      "\n",
      "{'bootstrap': True,\n",
      " 'ccp_alpha': 0.0,\n",
      " 'criterion': 'mse',\n",
      " 'max_depth': None,\n",
      " 'max_features': 'auto',\n",
      " 'max_leaf_nodes': None,\n",
      " 'max_samples': None,\n",
      " 'min_impurity_decrease': 0.0,\n",
      " 'min_impurity_split': None,\n",
      " 'min_samples_leaf': 1,\n",
      " 'min_samples_split': 2,\n",
      " 'min_weight_fraction_leaf': 0.0,\n",
      " 'n_estimators': 100,\n",
      " 'n_jobs': None,\n",
      " 'oob_score': False,\n",
      " 'random_state': None,\n",
      " 'verbose': 0,\n",
      " 'warm_start': False}\n"
     ]
    }
   ],
   "source": [
    "dummy = RandomForestRegressor()\n",
    "print('Default parameters:\\n')\n",
    "pprint(dummy.get_params())"
   ]
  },
  {
   "cell_type": "code",
   "execution_count": 6,
   "metadata": {},
   "outputs": [],
   "source": [
    "#defining k-folds procedure \n",
    "kf = KFold(n_splits=5, random_state=None, shuffle=False)"
   ]
  },
  {
   "cell_type": "code",
   "execution_count": 15,
   "metadata": {},
   "outputs": [
    {
     "name": "stdout",
     "output_type": "stream",
     "text": [
      "Benchmark (non-optimised RF) has MAE of: 0.02740\n"
     ]
    }
   ],
   "source": [
    "benchmark = RandomForestRegressor(n_jobs=-1)\n",
    "results=[]\n",
    "for train_index, test_index in kf.split(data_x):\n",
    "    X_train, X_test = data_x[train_index], data_x[test_index]\n",
    "    Y_train, Y_test = data_y[train_index], data_y[test_index]\n",
    "\n",
    "    benchmark.fit(X_train, Y_train)\n",
    "    preds = benchmark.predict(X_test)\n",
    "\n",
    "    results.append(mean_absolute_error(Y_test, preds))\n",
    "print(\"Benchmark (non-optimised RF) has MAE of: %.5f\" % (np.mean(results)))"
   ]
  },
  {
   "cell_type": "code",
   "execution_count": 16,
   "metadata": {},
   "outputs": [],
   "source": [
    "params = dummy.get_params()"
   ]
  },
  {
   "cell_type": "markdown",
   "metadata": {},
   "source": [
    "By defult not defining max_depth grows pure trees, will leave this and tune for n_estimators (default is 100)"
   ]
  },
  {
   "cell_type": "code",
   "execution_count": 25,
   "metadata": {},
   "outputs": [
    {
     "name": "stdout",
     "output_type": "stream",
     "text": [
      "Best params: n_estimators: 800, MAE: 0.02728\n"
     ]
    }
   ],
   "source": [
    "#gridsearch params for max_depth and n_estimators \n",
    "gridsearch_params = [n_estimators for n_estimators in range(50,1050, 50)]\n",
    "\n",
    "params_cv = params.copy()\n",
    "#setting to multithread\n",
    "params_cv['n_jobs'] = -1\n",
    "\n",
    "min_mae = float(\"Inf\")\n",
    "best_params = None\n",
    "\n",
    "for n_estimators in gridsearch_params:\n",
    "    print(\"CV with n_estimators = %i\" % (n_estimators))\n",
    "    # Update our parameters\n",
    "    params_cv['n_estimators'] = n_estimators\n",
    "\n",
    "    errors = []\n",
    "\n",
    "    for train_index, test_index in kf.split(data_x):\n",
    "        X_train, X_test = data_x[train_index], data_x[test_index]\n",
    "        Y_train, Y_test = data_y[train_index], data_y[test_index]\n",
    "\n",
    "        model_rf = RandomForestRegressor(**params_cv)\n",
    "        model_rf.fit(X_train, Y_train)\n",
    "        preds = model_rf.predict(X_test)\n",
    "\n",
    "        errors.append(mean_absolute_error(Y_test, preds))\n",
    "    \n",
    "    mean_mae = np.mean(errors)\n",
    "    print(\"\\tMAE %.5f\" % (mean_mae))\n",
    "    if mean_mae < min_mae:\n",
    "        min_mae = mean_mae\n",
    "        best_params = n_estimators\n",
    "        \n",
    "params_cv['n_estimators'] = best_params\n",
    "clear_output()\n",
    "print(\"Best params: n_estimators: %i, MAE: %.5f\" % (best_params, min_mae))"
   ]
  },
  {
   "cell_type": "code",
   "execution_count": 32,
   "metadata": {},
   "outputs": [],
   "source": [
    "# Little difference between n_estimators... 500 trees had similar MAE as 800 so resetting this param to 500 for speed\n",
    "params_cv['n_estimators'] = 500"
   ]
  },
  {
   "cell_type": "markdown",
   "metadata": {},
   "source": [
    "Doing the same for min_samples_leaf and min_samples_split"
   ]
  },
  {
   "cell_type": "code",
   "execution_count": 33,
   "metadata": {},
   "outputs": [
    {
     "name": "stdout",
     "output_type": "stream",
     "text": [
      "Best params: min_samples_leaf: 1, min_samples_split: 2, MAE: 0.02729\n"
     ]
    }
   ],
   "source": [
    "#gridsearch params for max_depth and n_estimators \n",
    "gridsearch_params = [(min_samples_leaf, min_samples_split) for min_samples_leaf in range(1,8) for min_samples_split in range(2,8)]\n",
    "\n",
    "min_mae = float(\"Inf\")\n",
    "best_params = None\n",
    "\n",
    "for min_samples_leaf, min_samples_split in gridsearch_params:\n",
    "    print(\"CV with min_samples_leaf = %i, min_samples_split = %i\" % (min_samples_leaf, min_samples_split))\n",
    "    # Update our parameters\n",
    "    params_cv['min_samples_leaf'] = min_samples_leaf\n",
    "    params_cv['min_samples_split'] = min_samples_split\n",
    "\n",
    "    errors = []\n",
    "\n",
    "    for train_index, test_index in kf.split(data_x):\n",
    "        X_train, X_test = data_x[train_index], data_x[test_index]\n",
    "        Y_train, Y_test = data_y[train_index], data_y[test_index]\n",
    "\n",
    "        model_rf = RandomForestRegressor(**params_cv)\n",
    "        model_rf.fit(X_train, Y_train)\n",
    "        preds = model_rf.predict(X_test)\n",
    "\n",
    "        errors.append(mean_absolute_error(Y_test, preds))\n",
    "    \n",
    "    mean_mae = np.mean(errors)\n",
    "    print(\"\\tMAE %.5f\" % (mean_mae))\n",
    "    if mean_mae < min_mae:\n",
    "        min_mae = mean_mae\n",
    "        best_params = (min_samples_leaf, min_samples_split)\n",
    "        \n",
    "params_cv['min_samples_leaf'] = best_params[0]\n",
    "params_cv['min_samples_split'] = best_params[1]\n",
    "clear_output()\n",
    "print(\"Best params: min_samples_leaf: %i, min_samples_split: %i, MAE: %.5f\" % (best_params[0], best_params[1], min_mae))"
   ]
  },
  {
   "cell_type": "code",
   "execution_count": 35,
   "metadata": {},
   "outputs": [
    {
     "data": {
      "text/plain": [
       "{'bootstrap': True,\n",
       " 'ccp_alpha': 0.0,\n",
       " 'criterion': 'mse',\n",
       " 'max_depth': None,\n",
       " 'max_features': 'auto',\n",
       " 'max_leaf_nodes': None,\n",
       " 'max_samples': None,\n",
       " 'min_impurity_decrease': 0.0,\n",
       " 'min_impurity_split': None,\n",
       " 'min_samples_leaf': 1,\n",
       " 'min_samples_split': 2,\n",
       " 'min_weight_fraction_leaf': 0.0,\n",
       " 'n_estimators': 500,\n",
       " 'n_jobs': -1,\n",
       " 'oob_score': False,\n",
       " 'random_state': None,\n",
       " 'verbose': 0,\n",
       " 'warm_start': False}"
      ]
     },
     "execution_count": 35,
     "metadata": {},
     "output_type": "execute_result"
    }
   ],
   "source": [
    "params_cv"
   ]
  },
  {
   "cell_type": "code",
   "execution_count": 36,
   "metadata": {},
   "outputs": [],
   "source": [
    "#saving updated params\n",
    "np.save(data_path + '/RF_PARAMS.npy', params_cv) "
   ]
  },
  {
   "cell_type": "code",
   "execution_count": null,
   "metadata": {},
   "outputs": [],
   "source": []
  }
 ],
 "metadata": {
  "kernelspec": {
   "display_name": "Python 3",
   "language": "python",
   "name": "python3"
  },
  "language_info": {
   "codemirror_mode": {
    "name": "ipython",
    "version": 3
   },
   "file_extension": ".py",
   "mimetype": "text/x-python",
   "name": "python",
   "nbconvert_exporter": "python",
   "pygments_lexer": "ipython3",
   "version": "3.8.5"
  }
 },
 "nbformat": 4,
 "nbformat_minor": 4
}
