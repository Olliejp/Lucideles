{
  "nbformat": 4,
  "nbformat_minor": 0,
  "metadata": {
    "colab": {
      "name": "NN_param_tuning.ipynb",
      "provenance": []
    },
    "kernelspec": {
      "name": "python3",
      "display_name": "Python 3"
    },
    "accelerator": "GPU"
  },
  "cells": [
    {
      "cell_type": "code",
      "metadata": {
        "id": "Q6gKHR15VUIW"
      },
      "source": [
        "import pandas as pd\n",
        "import numpy as np\n",
        "\n",
        "import torch\n",
        "import torch.nn as nn\n",
        "from torch.utils.data import TensorDataset, DataLoader\n",
        "\n",
        "import matplotlib.pyplot as plt\n",
        "\n",
        "plt.rcParams['axes.spines.right'] = False\n",
        "plt.rcParams['axes.spines.top'] = False\n",
        "plt.rcParams['figure.figsize'] = 10, 6"
      ],
      "execution_count": null,
      "outputs": []
    },
    {
      "cell_type": "code",
      "metadata": {
        "colab": {
          "base_uri": "https://localhost:8080/"
        },
        "id": "Wz_SBzEcWgmQ",
        "outputId": "899770d5-216d-4dd5-bda1-e269f22b0135"
      },
      "source": [
        "from google.colab import drive\n",
        "drive.mount('/content/gdrive')"
      ],
      "execution_count": null,
      "outputs": [
        {
          "output_type": "stream",
          "text": [
            "Drive already mounted at /content/gdrive; to attempt to forcibly remount, call drive.mount(\"/content/gdrive\", force_remount=True).\n"
          ],
          "name": "stdout"
        }
      ]
    },
    {
      "cell_type": "code",
      "metadata": {
        "id": "geVzt4FgWnse"
      },
      "source": [
        "data_path = '/content/gdrive/My Drive/idiap_models/NN_blinds/'"
      ],
      "execution_count": null,
      "outputs": []
    },
    {
      "cell_type": "code",
      "metadata": {
        "id": "2dPuUIFXWx4M"
      },
      "source": [
        "train = np.load(data_path + 'train.npy',allow_pickle='TRUE')\n",
        "valid = np.load(data_path + 'valid.npy',allow_pickle='TRUE')"
      ],
      "execution_count": null,
      "outputs": []
    },
    {
      "cell_type": "code",
      "metadata": {
        "colab": {
          "base_uri": "https://localhost:8080/"
        },
        "id": "CLXAXO2oXc_Q",
        "outputId": "d3fcf336-bc48-4239-9bdd-dde6444ccee2"
      },
      "source": [
        "!nvidia-smi"
      ],
      "execution_count": null,
      "outputs": [
        {
          "output_type": "stream",
          "text": [
            "Mon Dec 21 11:50:36 2020       \n",
            "+-----------------------------------------------------------------------------+\n",
            "| NVIDIA-SMI 455.45.01    Driver Version: 418.67       CUDA Version: 10.1     |\n",
            "|-------------------------------+----------------------+----------------------+\n",
            "| GPU  Name        Persistence-M| Bus-Id        Disp.A | Volatile Uncorr. ECC |\n",
            "| Fan  Temp  Perf  Pwr:Usage/Cap|         Memory-Usage | GPU-Util  Compute M. |\n",
            "|                               |                      |               MIG M. |\n",
            "|===============================+======================+======================|\n",
            "|   0  Tesla P100-PCIE...  Off  | 00000000:00:04.0 Off |                    0 |\n",
            "| N/A   38C    P0    27W / 250W |      0MiB / 16280MiB |      0%      Default |\n",
            "|                               |                      |                 ERR! |\n",
            "+-------------------------------+----------------------+----------------------+\n",
            "                                                                               \n",
            "+-----------------------------------------------------------------------------+\n",
            "| Processes:                                                                  |\n",
            "|  GPU   GI   CI        PID   Type   Process name                  GPU Memory |\n",
            "|        ID   ID                                                   Usage      |\n",
            "|=============================================================================|\n",
            "|  No running processes found                                                 |\n",
            "+-----------------------------------------------------------------------------+\n"
          ],
          "name": "stdout"
        }
      ]
    },
    {
      "cell_type": "code",
      "metadata": {
        "colab": {
          "base_uri": "https://localhost:8080/"
        },
        "id": "m8W1QbbuXsYV",
        "outputId": "13274753-2e69-4bd2-8448-61cc965b0972"
      },
      "source": [
        "def try_gpu(i=0):  #@save\n",
        "    \"\"\"Return gpu(i) if exists, otherwise return cpu().\"\"\"\n",
        "    if torch.cuda.device_count() >= i + 1:\n",
        "        return torch.device(f'cuda:{i}')\n",
        "    return torch.device('cpu')\n",
        "\n",
        "def try_all_gpus():  #@save\n",
        "    \"\"\"Return all available GPUs, or [cpu(),] if no GPU exists.\"\"\"\n",
        "    devices = [torch.device(f'cuda:{i}')\n",
        "             for i in range(torch.cuda.device_count())]\n",
        "    return devices if devices else [torch.device('cpu')]\n",
        "\n",
        "try_gpu(), try_gpu(10), try_all_gpus()"
      ],
      "execution_count": null,
      "outputs": [
        {
          "output_type": "execute_result",
          "data": {
            "text/plain": [
              "(device(type='cuda', index=0),\n",
              " device(type='cpu'),\n",
              " [device(type='cuda', index=0)])"
            ]
          },
          "metadata": {
            "tags": []
          },
          "execution_count": 6
        }
      ]
    },
    {
      "cell_type": "code",
      "metadata": {
        "id": "qZUqtmNSXzXe"
      },
      "source": [
        "train_x, train_y = train[:,:-2], train[:,-2:]\n",
        "valid_x, valid_y = valid[:,:-2], valid[:,-2:]"
      ],
      "execution_count": null,
      "outputs": []
    },
    {
      "cell_type": "code",
      "metadata": {
        "id": "3M_-FG2XYJbZ"
      },
      "source": [
        "def mse_loss(t1, t2):\n",
        "    return torch.sum((t1-t2)**2) / t1.numel()\n",
        "\n",
        "def mse(y, yhat):\n",
        "    \"\"\"\n",
        "    Computes MSE - our models loss\n",
        "    \"\"\"\n",
        "    return np.sum((np.array(y) - np.array(yhat))**2) / len(y)\n",
        "\n",
        "def mae(y, yhat):\n",
        "    \"\"\"\n",
        "    Computes Mean Absolute Error\n",
        "    \"\"\"\n",
        "    return np.sum(np.abs(np.array(y) - np.array(yhat))) / len(y)"
      ],
      "execution_count": null,
      "outputs": []
    },
    {
      "cell_type": "code",
      "metadata": {
        "id": "NX6yYJJpYlZg"
      },
      "source": [
        "BATCH_SIZE = 32\n",
        "\n",
        "train_X, train_Y = torch.from_numpy(train_x), torch.from_numpy(train_y)\n",
        "valid_X, valid_Y = torch.from_numpy(valid_x), torch.from_numpy(valid_y)\n",
        "\n",
        "train_df = TensorDataset(train_X, train_Y)\n",
        "valid_df = TensorDataset(valid_X, valid_Y)\n",
        "\n",
        "train_dl = DataLoader(train_df, BATCH_SIZE, shuffle=False)\n",
        "valid_dl = DataLoader(valid_df, BATCH_SIZE, shuffle=False)\n"
      ],
      "execution_count": null,
      "outputs": []
    },
    {
      "cell_type": "code",
      "metadata": {
        "id": "fLTSW8n4ZNlJ"
      },
      "source": [
        "next(iter(valid_dl))"
      ],
      "execution_count": null,
      "outputs": []
    },
    {
      "cell_type": "code",
      "metadata": {
        "id": "zrmJpC8TaLBz"
      },
      "source": [
        "NUM_FEATURES = train_x.shape[1]\n",
        "NUM_LABELS = train_y.shape[1]"
      ],
      "execution_count": null,
      "outputs": []
    },
    {
      "cell_type": "code",
      "metadata": {
        "id": "EWRbQkeZZ4LH"
      },
      "source": [
        "class SimpleNet(nn.Module):\n",
        "    def __init__(self):\n",
        "        super().__init__()\n",
        "        self.linear1 = nn.Linear(NUM_FEATURES, 1000)\n",
        "        self.act1 = nn.ReLU() \n",
        "        self.linear2 = nn.Linear(1000, 1000)\n",
        "        self.act2 = nn.ReLU() \n",
        "        self.linear3 = nn.Linear(1000, 1000)\n",
        "        self.act3 = nn.ReLU() \n",
        "        self.linear4 = nn.Linear(1000, NUM_LABELS)\n",
        "    \n",
        "    def forward(self, x):\n",
        "        x = self.linear1(x)\n",
        "        x = self.act1(x)\n",
        "        x = self.linear2(x)\n",
        "        x = self.act2(x)\n",
        "        x = self.linear3(x)\n",
        "        x = self.act3(x)\n",
        "        x = self.linear4(x)\n",
        "        return x"
      ],
      "execution_count": null,
      "outputs": []
    },
    {
      "cell_type": "code",
      "metadata": {
        "id": "UANm5I48a-Jc"
      },
      "source": [
        "model = SimpleNet().to('cuda')\n",
        "loss_fn = mse_loss(train_Y.float(),train_Y.float()).to('cuda')\n",
        "opt = torch.optim.Adam(model.parameters(), lr=1e-4, weight_decay=0.000008)"
      ],
      "execution_count": null,
      "outputs": []
    },
    {
      "cell_type": "code",
      "metadata": {
        "colab": {
          "base_uri": "https://localhost:8080/",
          "height": 435
        },
        "id": "cFrBD1EhbOII",
        "outputId": "6fce3412-839e-42cb-d58d-c7f03ac31092"
      },
      "source": [
        "def fit(num_epochs, model, loss_fn, opt):\n",
        "    \n",
        "    epoch_number = []\n",
        "    train_losses = []\n",
        "    val_losses = []\n",
        "    train_losses_per_batch = []\n",
        "    val_losses_per_batch = []\n",
        "    best_valid_loss = 100\n",
        "    early_stopping = 0\n",
        "    \n",
        "    for epoch in range(num_epochs):\n",
        "        model.train()\n",
        "        for xb,yb in train_dl:\n",
        "            xb, yb = xb.to('cuda'), yb.to('cuda')\n",
        "            y_hat = model(xb.float())\n",
        "            loss = loss_fn(yb, y_hat)\n",
        "            train_losses_per_batch.append(loss)\n",
        "            loss.backward()\n",
        "            opt.step()\n",
        "            opt.zero_grad()\n",
        "\n",
        "        model.eval()\n",
        "        with torch.set_grad_enabled(False):\n",
        "            for val_xb, val_yb in valid_dl:\n",
        "                val_xb, val_yb = val_xb.to('cuda'), val_yb.to('cuda')\n",
        "                y_hat = model(val_xb.float())\n",
        "                val_loss = loss_fn(val_yb, y_hat)\n",
        "                val_losses_per_batch.append(val_loss)\n",
        "\n",
        "        train_losses.append(torch.mean(torch.stack(train_losses_per_batch)))\n",
        "        val_losses.append(torch.mean(torch.stack(val_losses_per_batch)))\n",
        "        train_losses_per_batch = []\n",
        "        val_losses_per_batch = []\n",
        "        epoch_number.append(epoch)\n",
        "\n",
        "        if val_losses[-1] < best_valid_loss:\n",
        "            best_valid_loss =  val_losses[-1]\n",
        "            torch.save(model.state_dict(), data_path + \"MLP_state.pth\")\n",
        "            early_stopping = 0\n",
        "        \n",
        "        if val_losses[-1] >= best_valid_loss: \n",
        "            early_stopping +=1\n",
        "          \n",
        "        if early_stopping > 5:\n",
        "            print(\"Stopped training since model validation loss didnt imporve after 6 epochs\")\n",
        "            break\n",
        "\n",
        "        if epoch % 10 == 0:  \n",
        "            print('Epoch number: %i, Training loss: %.3f, Validation loss: %.3f Best so far: %.3f' % (epoch, train_losses[-1], val_losses[-1], best_valid_loss))\n",
        "\n",
        "    plt.plot(epoch_number, train_losses, label='Training Loss')\n",
        "    plt.plot(epoch_number, val_losses, label='Validation Loss')\n",
        "    plt.legend()\n",
        "    plt.show()\n",
        "\n",
        "fit(300, model, mse_loss, opt)"
      ],
      "execution_count": null,
      "outputs": [
        {
          "output_type": "stream",
          "text": [
            "Epoch number: 0, Training loss: 0.167, Validation loss: 0.080 Best so far: 0.080\n",
            "Epoch number: 10, Training loss: 0.027, Validation loss: 0.027 Best so far: 0.027\n",
            "Epoch number: 20, Training loss: 0.021, Validation loss: 0.023 Best so far: 0.023\n",
            "Epoch number: 30, Training loss: 0.017, Validation loss: 0.020 Best so far: 0.020\n",
            "Epoch number: 40, Training loss: 0.015, Validation loss: 0.019 Best so far: 0.019\n",
            "Epoch number: 50, Training loss: 0.013, Validation loss: 0.019 Best so far: 0.018\n",
            "Epoch number: 60, Training loss: 0.013, Validation loss: 0.017 Best so far: 0.017\n",
            "Epoch number: 70, Training loss: 0.011, Validation loss: 0.017 Best so far: 0.016\n",
            "Epoch number: 80, Training loss: 0.010, Validation loss: 0.016 Best so far: 0.016\n",
            "Stopped training since model validation loss didnt imporve after 6 epochs\n"
          ],
          "name": "stdout"
        },
        {
          "output_type": "display_data",
          "data": {
            "image/png": "[encoded data removed]",
            "text/plain": [
              "<Figure size 432x288 with 1 Axes>"
            ]
          },
          "metadata": {
            "tags": [],
            "needs_background": "light"
          }
        }
      ]
    },
    {
      "cell_type": "code",
      "metadata": {
        "id": "-XbEtGyJAPJk"
      },
      "source": [
        ""
      ],
      "execution_count": null,
      "outputs": []
    }
  ]
}