{
 "cells": [
  {
   "cell_type": "code",
   "execution_count": 1,
   "metadata": {},
   "outputs": [],
   "source": [
    "import pandas as pd\n",
    "import numpy as np\n",
    "import glob\n",
    "import re\n",
    "\n",
    "from tqdm import tqdm\n",
    "\n",
    "import matplotlib.pyplot as plt\n",
    "\n",
    "plt.rcParams['axes.spines.right'] = False\n",
    "plt.rcParams['axes.spines.top'] = False\n",
    "plt.rcParams['figure.figsize'] = 10, 6"
   ]
  },
  {
   "cell_type": "code",
   "execution_count": 2,
   "metadata": {},
   "outputs": [
    {
     "name": "stdout",
     "output_type": "stream",
     "text": [
      "/Users/oliverpaul/Data_Science/idiap/lucideles/lucideles_repo/project_2/room_1\n"
     ]
    }
   ],
   "source": [
    "!pwd"
   ]
  },
  {
   "cell_type": "code",
   "execution_count": 3,
   "metadata": {},
   "outputs": [],
   "source": [
    "ill_path = \"/Users/oliverpaul/Data_Science/idiap/lucideles/lucideles_repo/project_2/room_1/data/WPI\"\n",
    "dgp_path = \"/Users/oliverpaul/Data_Science/idiap/lucideles/lucideles_repo/project_2/room_1/data/DGP\"\n",
    "weather_path = \"/Users/oliverpaul/Data_Science/idiap/lucideles/lucideles_repo/project_2/room_1/data/weather\""
   ]
  },
  {
   "cell_type": "code",
   "execution_count": 4,
   "metadata": {},
   "outputs": [],
   "source": [
    "# loading reference data\n",
    "ill_ref = pd.read_csv(ill_path + \"/wr1_Ref.ill\", sep='\\s+', skiprows=13, header=None)\n",
    "dgp_ref = pd.read_csv(dgp_path + \"/wr1-Ref.txt\", sep=',| |{:*}', engine=\"python\", header=None)\n",
    "radiation = pd.read_csv(weather_path + \"/fribourg-solar-direct-diffuse.txt\", sep='\\t', engine=\"python\", skiprows=2, index_col=0)\n",
    "sun_position = pd.read_csv(weather_path + \"/fribourg-sun position.txt\", sep='\\t', skiprows=3, index_col=0, header=None)\n",
    "\n",
    "reference = np.ones([8760,1])\n",
    "blind_angle_north = np.zeros([8760,1])\n",
    "blind_angle_south = np.zeros([8760,1])\n",
    "\n",
    "#converting to arrays\n",
    "ill = np.mean(ill_ref.values, axis=1).reshape(8760,1)\n",
    "dgp = dgp_ref[6].values.reshape(8760,1)\n",
    "radiation = np.array(radiation)\n",
    "sun_position = np.array(sun_position)\n"
   ]
  },
  {
   "cell_type": "code",
   "execution_count": 5,
   "metadata": {},
   "outputs": [],
   "source": [
    "cols = ['month', 'day', \n",
    "        'hour', 'azimuth', \n",
    "        'altitude', 'ibn', \n",
    "        'idh', 'reference', \n",
    "        'blind_angle_n', 'blind_angle_s',\n",
    "        'ill', 'dgp']"
   ]
  },
  {
   "cell_type": "code",
   "execution_count": 6,
   "metadata": {},
   "outputs": [],
   "source": [
    "data = np.concatenate((sun_position, radiation, reference, blind_angle_north, blind_angle_south, ill, dgp), axis=1)"
   ]
  },
  {
   "cell_type": "code",
   "execution_count": 7,
   "metadata": {},
   "outputs": [
    {
     "name": "stderr",
     "output_type": "stream",
     "text": [
      "123it [00:06, 17.96it/s]\n"
     ]
    }
   ],
   "source": [
    "ill_files = sorted(glob.glob(ill_path + \"/*.ill\"))\n",
    "dgp_files = sorted(glob.glob(dgp_path + \"/*.txt\"))\n",
    "\n",
    "frames = [data]\n",
    "\n",
    "for ill_file, dgp_file in tqdm(zip(ill_files, dgp_files)):\n",
    "    if ill_file.split('/')[-1] == 'wr1_Ref.ill' or dgp_file.split('/')[-1] == 'wr1-Ref.txt':\n",
    "        assert ill_file.split('/')[-1] == 'wr1_Ref.ill' and dgp_file.split('/')[-1] == 'wr1-Ref.txt'\n",
    "        continue\n",
    "    south_angle_ill, north_angle_ill = re.split('St|-|Nt|.ill', ill_file)[1], re.split('St|-|Nt|.ill', ill_file)[3]\n",
    "    south_angle_dgp, north_angle_dgp = re.split('St|-|Nt|.txt', dgp_file)[2], re.split('St|-|Nt|.txt', dgp_file)[4]\n",
    "    assert south_angle_ill == south_angle_dgp\n",
    "    assert north_angle_ill == north_angle_dgp\n",
    "    \n",
    "    ill = pd.read_csv(ill_file, sep='\\s+', skiprows=13, header=None)\n",
    "    ill = np.mean(ill.values, axis=1).reshape(8760,1)\n",
    "    \n",
    "    dgp = pd.read_csv(dgp_file, sep=',| |{:*}', engine=\"python\", header=None)\n",
    "    dgp = dgp[6].values.reshape(8760,1)\n",
    "    \n",
    "    blind_angle_south = np.empty([8760,1])\n",
    "    blind_angle_north = np.empty([8760,1])\n",
    "    ref = np.zeros([8760,1])\n",
    "    \n",
    "    blind_angle_south[:] = south_angle_ill\n",
    "    blind_angle_south = blind_angle_south.astype('float64')\n",
    "\n",
    "    blind_angle_north[:] = north_angle_ill\n",
    "    blind_angle_north = blind_angle_north.astype('float64')\n",
    "    \n",
    "    \n",
    "    next_data = np.concatenate((sun_position, radiation, ref, blind_angle_north, blind_angle_south, ill, dgp), axis=1)\n",
    "    \n",
    "    frames.append(next_data)\n",
    "\n",
    "df = np.concatenate(frames)"
   ]
  },
  {
   "cell_type": "code",
   "execution_count": 8,
   "metadata": {},
   "outputs": [],
   "source": [
    "df = pd.DataFrame(df, columns=cols)"
   ]
  },
  {
   "cell_type": "code",
   "execution_count": 13,
   "metadata": {},
   "outputs": [],
   "source": [
    "df.to_csv('ploop.csv')"
   ]
  },
  {
   "cell_type": "code",
   "execution_count": null,
   "metadata": {},
   "outputs": [],
   "source": []
  }
 ],
 "metadata": {
  "kernelspec": {
   "display_name": "Python 3",
   "language": "python",
   "name": "python3"
  },
  "language_info": {
   "codemirror_mode": {
    "name": "ipython",
    "version": 3
   },
   "file_extension": ".py",
   "mimetype": "text/x-python",
   "name": "python",
   "nbconvert_exporter": "python",
   "pygments_lexer": "ipython3",
   "version": "3.8.5"
  }
 },
 "nbformat": 4,
 "nbformat_minor": 4
}
